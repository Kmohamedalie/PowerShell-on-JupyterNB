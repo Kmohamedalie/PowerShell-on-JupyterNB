{
 "cells": [
  {
   "cell_type": "markdown",
   "id": "d244572b",
   "metadata": {},
   "source": [
    "# **Command line in JupyterNotebook**\n",
    "Working interactively with command prompt using jupyter notebook's magic exclamation '!'"
   ]
  },
  {
   "cell_type": "code",
   "execution_count": 1,
   "id": "b10fb2b7",
   "metadata": {
    "scrolled": false
   },
   "outputs": [],
   "source": [
    "# use the !help function to get started and learn about powershell/command functions\n",
    "#!help"
   ]
  },
  {
   "cell_type": "code",
   "execution_count": 2,
   "id": "603d8cbc",
   "metadata": {},
   "outputs": [
    {
     "name": "stdout",
     "output_type": "stream",
     "text": [
      "\"Hello, World! In the beginning there is cmd!\"\n"
     ]
    }
   ],
   "source": [
    "# print hello, world\n",
    "!echo \"Hello, World! In the beginning there is cmd!\""
   ]
  },
  {
   "cell_type": "code",
   "execution_count": 4,
   "id": "2e9359cb",
   "metadata": {},
   "outputs": [],
   "source": [
    "# dipsplay labptop host name\n",
    "!hostname"
   ]
  },
  {
   "cell_type": "code",
   "execution_count": 5,
   "id": "ee8119ed",
   "metadata": {},
   "outputs": [],
   "source": [
    "# show working directory !dir or !ls\n",
    "!dir"
   ]
  },
  {
   "cell_type": "code",
   "execution_count": 6,
   "id": "f0510e4d",
   "metadata": {},
   "outputs": [],
   "source": [
    "#print working directory\n",
    "!pwd"
   ]
  },
  {
   "cell_type": "code",
   "execution_count": 7,
   "id": "07d4f2d0",
   "metadata": {},
   "outputs": [],
   "source": [
    "# make a directory called command_line_basic\n",
    "!mkdir command_line_basic"
   ]
  },
  {
   "cell_type": "code",
   "execution_count": 45,
   "id": "2148d9e3",
   "metadata": {},
   "outputs": [],
   "source": [
    "# change working directory:\n",
    "!cd command_line_basic"
   ]
  },
  {
   "cell_type": "code",
   "execution_count": 46,
   "id": "9da98409",
   "metadata": {},
   "outputs": [],
   "source": [
    "# delete a directory\n",
    "!rmdir command_line_basic"
   ]
  },
  {
   "cell_type": "markdown",
   "id": "a6bffa50",
   "metadata": {},
   "source": [
    "Creating a simple text file and writing data into it"
   ]
  },
  {
   "cell_type": "code",
   "execution_count": 3,
   "id": "48c6a283",
   "metadata": {},
   "outputs": [],
   "source": [
    "# creating and writing data into a text file\n",
    "!echo \"testing to create a file with data\" > filewithtext.txt"
   ]
  },
  {
   "cell_type": "code",
   "execution_count": 4,
   "id": "ad2f7f01",
   "metadata": {},
   "outputs": [],
   "source": [
    "# popup the text file to read the data\n",
    "!notepad filewithtext.txt"
   ]
  },
  {
   "attachments": {
    "image.png": {
     "image/png": "[encoded data removed]"
    }
   },
   "cell_type": "markdown",
   "id": "0a44f3ec",
   "metadata": {},
   "source": [
    "![image.png](attachment:image.png)"
   ]
  },
  {
   "cell_type": "code",
   "execution_count": 5,
   "id": "7b7d6645",
   "metadata": {},
   "outputs": [],
   "source": [
    "# rename file\n",
    "!ren filewithtext.txt filedRename.txt"
   ]
  },
  {
   "cell_type": "code",
   "execution_count": 6,
   "id": "fd7e94c0",
   "metadata": {},
   "outputs": [],
   "source": [
    "# delete file\n",
    "!del filedRename.txt"
   ]
  },
  {
   "cell_type": "markdown",
   "id": "16687efe",
   "metadata": {},
   "source": [
    "If you try to open the name of the deleted file it will show error because the file nolonger exist in the system, the GUI will then ask if you want to create a new file"
   ]
  },
  {
   "cell_type": "code",
   "execution_count": 7,
   "id": "e13012aa",
   "metadata": {},
   "outputs": [],
   "source": [
    "!notepad filedRename.txt"
   ]
  },
  {
   "attachments": {
    "image-2.png": {
     "image/png": "[encoded data removed]"
    }
   },
   "cell_type": "markdown",
   "id": "06c6fd3a",
   "metadata": {},
   "source": [
    "![image-2.png](attachment:image-2.png)"
   ]
  },
  {
   "cell_type": "markdown",
   "id": "679949d1",
   "metadata": {},
   "source": [
    "### **Networking command as wel:**\n",
    "If you're interested in networking and want to learn some more basic command check this blog post on [medium](https://medium.com/@prateekbansalind/basic-networking-commands-in-powershell-for-windows-navigating-the-network-with-ease-77f5077a4bf9) "
   ]
  },
  {
   "cell_type": "code",
   "execution_count": 78,
   "id": "6f6a24b9",
   "metadata": {
    "scrolled": true
   },
   "outputs": [
    {
     "name": "stdout",
     "output_type": "stream",
     "text": [
      "\n",
      "Pinging www.geeksforgeeks.com [199.59.243.225] with 32 bytes of data:\n",
      "Reply from 199.59.243.225: bytes=32 time=15ms TTL=241\n",
      "Reply from 199.59.243.225: bytes=32 time=17ms TTL=241\n",
      "Reply from 199.59.243.225: bytes=32 time=17ms TTL=241\n",
      "Reply from 199.59.243.225: bytes=32 time=17ms TTL=241\n",
      "\n",
      "Ping statistics for 199.59.243.225:\n",
      "    Packets: Sent = 4, Received = 4, Lost = 0 (0% loss),\n",
      "Approximate round trip times in milli-seconds:\n",
      "    Minimum = 15ms, Maximum = 17ms, Average = 16ms\n"
     ]
    }
   ],
   "source": [
    "# pinging geeksforgeeks\n",
    "!ping www.geeksforgeeks.com"
   ]
  },
  {
   "cell_type": "markdown",
   "id": "6d63d895",
   "metadata": {},
   "source": [
    "**Note:** the following commands will display your ip address so make sure to undo the cell before making your notebook public"
   ]
  },
  {
   "cell_type": "code",
   "execution_count": 85,
   "id": "bfa2161e",
   "metadata": {},
   "outputs": [],
   "source": [
    "!Test-Connection google.com"
   ]
  },
  {
   "cell_type": "code",
   "execution_count": 83,
   "id": "79f4b1b7",
   "metadata": {},
   "outputs": [],
   "source": [
    "!ipconfig"
   ]
  },
  {
   "cell_type": "markdown",
   "id": "60d4abc9",
   "metadata": {},
   "source": [
    "### **some date time functions:**"
   ]
  },
  {
   "cell_type": "code",
   "execution_count": 79,
   "id": "4e594b75",
   "metadata": {},
   "outputs": [
    {
     "name": "stdout",
     "output_type": "stream",
     "text": [
      "\n",
      "18 April 2024 16:03:00\n",
      "\n",
      "\n"
     ]
    }
   ],
   "source": [
    "!Get-Date"
   ]
  },
  {
   "cell_type": "code",
   "execution_count": 81,
   "id": "cc8780ca",
   "metadata": {},
   "outputs": [
    {
     "name": "stdout",
     "output_type": "stream",
     "text": [
      "\n",
      "IsPublic IsSerial Name                                     BaseType                                                                                        \n",
      "-------- -------- ----                                     --------                                                                                        \n",
      "True     True     TimeZoneInfo                             System.Object                                                                                   \n",
      "\n",
      "\n"
     ]
    }
   ],
   "source": [
    "![System.TimeZoneInfo]"
   ]
  }
 ],
 "metadata": {
  "kernelspec": {
   "display_name": "Python 3 (ipykernel)",
   "language": "python",
   "name": "python3"
  },
  "language_info": {
   "codemirror_mode": {
    "name": "ipython",
    "version": 3
   },
   "file_extension": ".py",
   "mimetype": "text/x-python",
   "name": "python",
   "nbconvert_exporter": "python",
   "pygments_lexer": "ipython3",
   "version": "3.8.5"
  }
 },
 "nbformat": 4,
 "nbformat_minor": 5
}
